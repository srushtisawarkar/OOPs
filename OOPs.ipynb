{
  "nbformat": 4,
  "nbformat_minor": 0,
  "metadata": {
    "colab": {
      "provenance": []
    },
    "kernelspec": {
      "name": "python3",
      "display_name": "Python 3"
    },
    "language_info": {
      "name": "python"
    }
  },
  "cells": [
    {
      "cell_type": "markdown",
      "source": [
        "# Theory Questions"
      ],
      "metadata": {
        "id": "8yqudb6GOks0"
      }
    },
    {
      "cell_type": "markdown",
      "source": [
        "1) What is Object-Oriented Programming (OOP)?\n",
        "\n",
        "OOP is a way of programming using objects to organize data and functions together for better structure and reuse.\n",
        "\n",
        "---\n",
        "\n",
        "2) What is a class in OOP?\n",
        "\n",
        "A class is a blueprint for creating objects, defining their properties and behaviors.\n",
        "\n",
        "---\n",
        "\n",
        "3) What is an object in OOP?\n",
        "\n",
        "An object is an instance of a class with actual values stored in it.\n",
        "\n",
        "---\n",
        "\n",
        "4) What is the difference between abstraction and encapsulation?\n",
        "\n",
        "Abstraction hides complex details and shows only what is needed.\n",
        "Encapsulation hides data inside a class and controls access to it.\n",
        "\n",
        "---\n",
        "\n",
        "5) What are dunder methods in Python?\n",
        "\n",
        "Dunder methods are special methods with double underscores (like __init__, __str__) used to define behaviors for built-in operations.\n",
        "\n",
        "---\n",
        "\n",
        "6) Explain the concept of inheritance in OOP.\n",
        "\n",
        "Inheritance allows a class to get properties and methods from another class.\n",
        "\n",
        "---\n",
        "\n",
        "7) What is polymorphism in OOP?\n",
        "\n",
        "Polymorphism means one function or method can work in different ways depending on the object.\n",
        "\n",
        "---\n",
        "\n",
        "8) How is encapsulation achieved in Python?\n",
        "\n",
        "Encapsulation is done using private variables (_var, __var) and defining methods to access or modify them.\n",
        "\n",
        "---\n",
        "\n",
        "9) What is a constructor in Python?\n",
        "\n",
        "A constructor is the __init__ method used to initialize objects when they are created.\n",
        "\n",
        "---\n",
        "\n",
        "10) What are class and static methods in Python?\n",
        "\n",
        "* Class methods use @classmethod and access the class (cls).\n",
        "* Static methods use @staticmethod and do not access class or instance directly.\n",
        "\n",
        "---\n",
        "\n",
        "11) What is method overloading in Python?\n",
        "\n",
        "Python does not support traditional overloading, but you can handle different arguments in one method using default values or *args.\n",
        "\n",
        "---\n",
        "\n",
        "12) What is method overriding in OOP?\n",
        "\n",
        "Method overriding means a child class defines a method with the same name as in the parent class to change its behavior.\n",
        "\n",
        "---\n",
        "\n",
        "13) What is a property decorator in Python?\n",
        "\n",
        "The @property decorator lets you access a method like an attribute for clean code.\n",
        "\n",
        "---\n",
        "\n",
        "14) Why is polymorphism important in OOP?\n",
        "\n",
        "Polymorphism makes code flexible and reusable by allowing the same interface to work for different data types.\n",
        "\n",
        "---\n",
        "\n",
        "15) What is an abstract class in Python?\n",
        "\n",
        "An abstract class is a class that cannot be directly instantiated and may contain abstract methods that must be implemented in child classes.\n",
        "\n",
        "---\n",
        "\n",
        "16) What are the advantages of OOP?\n",
        "\n",
        " Better code organization\n",
        "\n",
        " Reuse through inheritance\n",
        "\n",
        " Easy to manage and debug\n",
        "\n",
        " Models real-world concepts.\n",
        "\n",
        "---\n",
        "\n",
        "17) What is the difference between a class variable and an instance variable?\n",
        "\n",
        "* Class variable: Shared by all objects of the class.\n",
        "* Instance variable: Unique to each object.\n",
        "\n",
        "---\n",
        "\n",
        "18) What is multiple inheritance in Python?\n",
        "\n",
        "Multiple inheritance allows a class to inherit from more than one parent class.\n",
        "\n",
        "---\n",
        "\n",
        "19) Explain the purpose of __str__ and __repr__ methods in Python.\n",
        "\n",
        "* __str__: Returns a readable string for users.\n",
        "* __repr__: Returns a developer-friendly string for debugging.\n",
        "\n",
        "---\n",
        "\n",
        "20) What is the significance of the super() function in Python?\n",
        "\n",
        "super() is used to call methods of the parent class in a child class.\n",
        "\n",
        "---\n",
        "\n",
        "21) What is the significance of the __del__ method in Python?\n",
        "\n",
        "__del__ is a destructor called when an object is deleted to clean up resources.\n",
        "\n",
        "---\n",
        "\n",
        "22) What is the difference between @staticmethod and @classmethod in Python?\n",
        "\n",
        "* @staticmethod: Does not take self or cls; no object or class reference.\n",
        "* @classmethod: Takes cls as a parameter and can access class variables.\n",
        "\n",
        "---\n",
        "\n",
        "23) How does polymorphism work in Python with inheritance?\n",
        "\n",
        "With inheritance, child classes can override methods of the parent, allowing the same method call to behave differently depending on the object.\n",
        "\n",
        "---\n",
        "\n",
        "24) What is method chaining in Python OOP?\n",
        "\n",
        "Method chaining means calling multiple methods in a single line using the returned object.\n",
        "\n",
        "obj.method1().method2()\n",
        "\n",
        "\n",
        "---\n",
        "\n",
        "25) What is the purpose of the __call__ method in Python?\n",
        "\n",
        "The __call__ method makes an object callable like a function.\n"
      ],
      "metadata": {
        "id": "KQCeJAjJOtRz"
      }
    },
    {
      "cell_type": "markdown",
      "source": [
        "# Practical Questions"
      ],
      "metadata": {
        "id": "W9mawHM1TUJk"
      }
    },
    {
      "cell_type": "code",
      "source": [
        "# 1. Parent class Animal with speak, child Dog overrides speak\n",
        "class Animal:\n",
        "    def speak(self):\n",
        "        print(\"Some generic animal sound\")\n",
        "\n",
        "class Dog(Animal):\n",
        "    def speak(self):\n",
        "        print(\"Bark!\")"
      ],
      "metadata": {
        "id": "ZU4JgQumTV_L"
      },
      "execution_count": 1,
      "outputs": []
    },
    {
      "cell_type": "code",
      "source": [
        "# 2. Abstract class Shape with area()\n",
        "from abc import ABC, abstractmethod\n",
        "\n",
        "class Shape(ABC):\n",
        "    @abstractmethod\n",
        "    def area(self):\n",
        "        pass\n",
        "\n",
        "class Circle(Shape):\n",
        "    def __init__(self, radius):\n",
        "        self.radius = radius\n",
        "    def area(self):\n",
        "        return 3.14 * self.radius * self.radius\n",
        "\n",
        "class Rectangle(Shape):\n",
        "    def __init__(self, length, width):\n",
        "        self.length = length\n",
        "        self.width = width\n",
        "    def area(self):\n",
        "        return self.length * self.width"
      ],
      "metadata": {
        "id": "WG5v2BGinED2"
      },
      "execution_count": 2,
      "outputs": []
    },
    {
      "cell_type": "code",
      "source": [
        "# 3. Multi-level inheritance Vehicle -> Car -> ElectricCar\n",
        "class Vehicle:\n",
        "    def __init__(self, type):\n",
        "        self.type = type\n",
        "\n",
        "class Car(Vehicle):\n",
        "    def __init__(self, type, brand):\n",
        "        super().__init__(type)\n",
        "        self.brand = brand\n",
        "\n",
        "class ElectricCar(Car):\n",
        "    def __init__(self, type, brand, battery):\n",
        "        super().__init__(type, brand)\n",
        "        self.battery = battery"
      ],
      "metadata": {
        "id": "ZIJWiLHpnZ-k"
      },
      "execution_count": 3,
      "outputs": []
    },
    {
      "cell_type": "code",
      "source": [
        "# 4. Polymorphism with Bird, Sparrow, Penguin\n",
        "class Bird:\n",
        "    def fly(self):\n",
        "        print(\"Bird is flying\")\n",
        "\n",
        "class Sparrow(Bird):\n",
        "    def fly(self):\n",
        "        print(\"Sparrow flies high\")\n",
        "\n",
        "class Penguin(Bird):\n",
        "    def fly(self):\n",
        "        print(\"Penguins can't fly\")"
      ],
      "metadata": {
        "id": "culJ-hCHpZvP"
      },
      "execution_count": null,
      "outputs": []
    },
    {
      "cell_type": "code",
      "source": [
        "# 5. Encapsulation with BankAccount\n",
        "class BankAccount:\n",
        "    def __init__(self, balance=0):\n",
        "        self.__balance = balance\n",
        "    def deposit(self, amount):\n",
        "        self.__balance += amount\n",
        "    def withdraw(self, amount):\n",
        "        if amount <= self.__balance:\n",
        "            self.__balance -= amount\n",
        "        else:\n",
        "            print(\"Insufficient funds\")\n",
        "    def check_balance(self):\n",
        "        return self.__balance"
      ],
      "metadata": {
        "id": "dFoA8AQFpiov"
      },
      "execution_count": 4,
      "outputs": []
    },
    {
      "cell_type": "code",
      "source": [
        "# 6. Runtime polymorphism with Instrument\n",
        "class Instrument:\n",
        "    def play(self):\n",
        "        print(\"Playing instrument\")\n",
        "\n",
        "class Guitar(Instrument):\n",
        "    def play(self):\n",
        "        print(\"Playing guitar\")\n",
        "\n",
        "class Piano(Instrument):\n",
        "    def play(self):\n",
        "        print(\"Playing piano\")"
      ],
      "metadata": {
        "id": "Ge5VsmGspq2Q"
      },
      "execution_count": 6,
      "outputs": []
    },
    {
      "cell_type": "code",
      "source": [
        "# 7. MathOperations with class method and static method\n",
        "class MathOperations:\n",
        "    @classmethod\n",
        "    def add_numbers(cls, a, b):\n",
        "        return a + b\n",
        "\n",
        "    @staticmethod\n",
        "    def subtract_numbers(a, b):\n",
        "        return a - b\n"
      ],
      "metadata": {
        "id": "bUBsoM9VpzYM"
      },
      "execution_count": 5,
      "outputs": []
    },
    {
      "cell_type": "code",
      "source": [
        "# 8. Person class with counting persons\n",
        "class Person:\n",
        "    count = 0\n",
        "    def __init__(self, name):\n",
        "        self.name = name\n",
        "        Person.count += 1\n",
        "    @classmethod\n",
        "    def total_persons(cls):\n",
        "        return cls.count"
      ],
      "metadata": {
        "id": "D9EfMCfop8G7"
      },
      "execution_count": 7,
      "outputs": []
    },
    {
      "cell_type": "code",
      "source": [
        "# 9. Fraction with __str__\n",
        "class Fraction:\n",
        "    def __init__(self, numerator, denominator):\n",
        "        self.numerator = numerator\n",
        "        self.denominator = denominator\n",
        "    def __str__(self):\n",
        "        return f\"{self.numerator}/{self.denominator}\"\n"
      ],
      "metadata": {
        "id": "DbUG-cdEqILH"
      },
      "execution_count": 8,
      "outputs": []
    },
    {
      "cell_type": "code",
      "source": [
        "# 10. Vector with operator overloading\n",
        "class Vector:\n",
        "    def __init__(self, x, y):\n",
        "        self.x = x\n",
        "        self.y = y\n",
        "    def __add__(self, other):\n",
        "        return Vector(self.x + other.x, self.y + other.y)\n",
        "    def __str__(self):\n",
        "        return f\"Vector({self.x}, {self.y})\"\n"
      ],
      "metadata": {
        "id": "8RWQA1LDqNHw"
      },
      "execution_count": 9,
      "outputs": []
    },
    {
      "cell_type": "code",
      "source": [
        "# 11. Person with greet()\n",
        "class PersonGreet:\n",
        "    def __init__(self, name, age):\n",
        "        self.name = name\n",
        "        self.age = age\n",
        "    def greet(self):\n",
        "        print(f\"Hello, my name is {self.name} and I am {self.age} years old.\")"
      ],
      "metadata": {
        "id": "dTCmEPYoqU3W"
      },
      "execution_count": 10,
      "outputs": []
    },
    {
      "cell_type": "code",
      "source": [
        "# 12. Student with average_grade()\n",
        "class Student:\n",
        "    def __init__(self, name, grades):\n",
        "        self.name = name\n",
        "        self.grades = grades\n",
        "    def average_grade(self):\n",
        "        return sum(self.grades) / len(self.grades)"
      ],
      "metadata": {
        "id": "aSGuU09gqc9T"
      },
      "execution_count": 11,
      "outputs": []
    },
    {
      "cell_type": "code",
      "source": [
        "# 13. Rectangle with set_dimensions and area\n",
        "class RectangleShape:\n",
        "    def set_dimensions(self, length, width):\n",
        "        self.length = length\n",
        "        self.width = width\n",
        "    def area(self):\n",
        "        return self.length * self.width"
      ],
      "metadata": {
        "id": "uYEZ071hqq5P"
      },
      "execution_count": 14,
      "outputs": []
    },
    {
      "cell_type": "code",
      "source": [
        "# 14. Employee and Manager with calculate_salary()\n",
        "class Employee:\n",
        "    def calculate_salary(self, hours, rate):\n",
        "        return hours * rate\n",
        "\n",
        "class Manager(Employee):\n",
        "    def calculate_salary(self, hours, rate, bonus):\n",
        "        return super().calculate_salary(hours, rate) + bonus"
      ],
      "metadata": {
        "id": "gF2zUOZZrycr"
      },
      "execution_count": 13,
      "outputs": []
    },
    {
      "cell_type": "code",
      "source": [
        "# 15. Product with total_price\n",
        "class Product:\n",
        "    def __init__(self, name, price, quantity):\n",
        "        self.name = name\n",
        "        self.price = price\n",
        "        self.quantity = quantity\n",
        "    def total_price(self):\n",
        "        return self.price * self.quantity\n"
      ],
      "metadata": {
        "id": "ekAXsAj-vBwa"
      },
      "execution_count": 12,
      "outputs": []
    },
    {
      "cell_type": "code",
      "source": [
        "# 16. Animal with abstract method sound()\n",
        "class AnimalSound(ABC):\n",
        "    @abstractmethod\n",
        "    def sound(self):\n",
        "        pass\n",
        "\n",
        "class Cow(AnimalSound):\n",
        "    def sound(self):\n",
        "        print(\"Moo\")\n",
        "\n",
        "class Sheep(AnimalSound):\n",
        "    def sound(self):\n",
        "        print(\"Baa\")"
      ],
      "metadata": {
        "id": "ubIMCjJuvHHk"
      },
      "execution_count": 15,
      "outputs": []
    },
    {
      "cell_type": "code",
      "source": [
        "# 17. Book with get_book_info\n",
        "class Book:\n",
        "    def __init__(self, title, author, year_published):\n",
        "        self.title = title\n",
        "        self.author = author\n",
        "        self.year_published = year_published\n",
        "    def get_book_info(self):\n",
        "        return f\"{self.title} by {self.author}, published in {self.year_published}\""
      ],
      "metadata": {
        "id": "8O9x509DvNeU"
      },
      "execution_count": 16,
      "outputs": []
    },
    {
      "cell_type": "code",
      "source": [
        "# 18. House and Mansion with number_of_rooms\n",
        "class House:\n",
        "    def __init__(self, address, price):\n",
        "        self.address = address\n",
        "        self.price = price\n",
        "\n",
        "class Mansion(House):\n",
        "    def __init__(self, address, price, number_of_rooms):\n",
        "        super().__init__(address, price)\n",
        "        self.number_of_rooms = number_of_rooms"
      ],
      "metadata": {
        "id": "5EXqiaQ8vSRK"
      },
      "execution_count": 17,
      "outputs": []
    }
  ]
}